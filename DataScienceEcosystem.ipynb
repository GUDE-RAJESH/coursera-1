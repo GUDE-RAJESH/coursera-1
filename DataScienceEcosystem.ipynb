{
 "cells": [
  {
   "cell_type": "markdown",
   "id": "08ec815d",
   "metadata": {},
   "source": [
    "Data Science Tools and Ecosystem"
   ]
  },
  {
   "cell_type": "markdown",
   "id": "47181713",
   "metadata": {},
   "source": [
    "In this notebook, Data Science Tools and Ecosystem are summarized."
   ]
  },
  {
   "cell_type": "markdown",
   "id": "1d0cdf24",
   "metadata": {},
   "source": [
    "Some of the popular languages that Data Scientists use are:\n",
    "    1.sql\n",
    "    2.python\n",
    "    3.R"
   ]
  },
  {
   "cell_type": "markdown",
   "id": "9fe1938c",
   "metadata": {},
   "source": [
    "Some of the commonly used libraries used by Data Scientists include:\n",
    "    1.numpy\n",
    "    2.pandas\n",
    "    3.matplotlib\n",
    "    4.seaborn"
   ]
  },
  {
   "cell_type": "markdown",
   "id": "a35be5ea",
   "metadata": {},
   "source": [
    "Data Science Tools\n",
    "jupyter notebook\n",
    "pytorch\n",
    "tableau"
   ]
  },
  {
   "cell_type": "markdown",
   "id": "38ae8fd6",
   "metadata": {},
   "source": [
    "## Below are a few examples of evaluating arithmetic expressions in Python"
   ]
  },
  {
   "cell_type": "code",
   "execution_count": 1,
   "id": "e3bd9dea",
   "metadata": {},
   "outputs": [
    {
     "data": {
      "text/plain": [
       "17"
      ]
     },
     "execution_count": 1,
     "metadata": {},
     "output_type": "execute_result"
    }
   ],
   "source": [
    "#This a simple arithmetic expression to mutiply then add integers\n",
    "(3*4)+5"
   ]
  },
  {
   "cell_type": "code",
   "execution_count": 2,
   "id": "d6c01e2b",
   "metadata": {},
   "outputs": [
    {
     "name": "stdout",
     "output_type": "stream",
     "text": [
      "3.3333333333333335  hours\n"
     ]
    }
   ],
   "source": [
    "#This will convert 200 minutes to hours by diving by 60\n",
    "a=200/60\n",
    "print(a,\" hours\")"
   ]
  },
  {
   "cell_type": "markdown",
   "id": "af1eda73",
   "metadata": {},
   "source": [
    "**Objectives:**\n",
    "* python\n",
    "* R\n",
    "* Scala\n",
    "* Julia\n",
    "* Matlab\n",
    "* SQL"
   ]
  },
  {
   "cell_type": "markdown",
   "id": "2e362564",
   "metadata": {},
   "source": [
    "## Author\n",
    "G.RAJESH"
   ]
  },
  {
   "cell_type": "code",
   "execution_count": null,
   "id": "ffb49b47",
   "metadata": {},
   "outputs": [],
   "source": []
  }
 ],
 "metadata": {
  "kernelspec": {
   "display_name": "Python 3 (ipykernel)",
   "language": "python",
   "name": "python3"
  },
  "language_info": {
   "codemirror_mode": {
    "name": "ipython",
    "version": 3
   },
   "file_extension": ".py",
   "mimetype": "text/x-python",
   "name": "python",
   "nbconvert_exporter": "python",
   "pygments_lexer": "ipython3",
   "version": "3.11.5"
  }
 },
 "nbformat": 4,
 "nbformat_minor": 5
}
